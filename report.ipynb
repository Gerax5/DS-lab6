{
 "cells": [
  {
   "cell_type": "markdown",
   "id": "80499247",
   "metadata": {},
   "source": [
    "# Lab 6\n",
    "\n",
    "Daniel Alfredo Rayo Roldan\n",
    "\n",
    "Gerardo Gabriel Pineda Riveiro\n",
    "\n",
    "https://github.com/Gerax5/DS-lab6"
   ]
  },
  {
   "cell_type": "code",
   "execution_count": 3,
   "id": "426d0ecb",
   "metadata": {},
   "outputs": [],
   "source": [
    "import pandas as pd\n",
    "import numpy as np\n",
    "import matplotlib.pyplot as plt\n",
    "import seaborn as sns\n",
    "from wordcloud import WordCloud\n",
    "import re\n",
    "import string\n",
    "from collections import Counter\n",
    "import nltk\n",
    "from nltk.corpus import stopwords as nltk_stop\n",
    "from nltk.util import ngrams\n",
    "from nltk.tokenize import TweetTokenizer\n",
    "from nltk.stem import WordNetLemmatizer\n",
    "import warnings\n",
    "from textblob import TextBlob\n",
    "import requests\n",
    "from sklearn.model_selection import train_test_split, cross_val_score, GridSearchCV\n",
    "from sklearn.feature_extraction.text import TfidfVectorizer, CountVectorizer\n",
    "from sklearn.linear_model import LogisticRegression\n",
    "from sklearn.svm import SVC\n",
    "from sklearn.ensemble import RandomForestClassifier\n",
    "from sklearn.naive_bayes import MultinomialNB\n",
    "from sklearn.metrics import (classification_report, confusion_matrix, \n",
    "                           accuracy_score, precision_score, recall_score, \n",
    "                           f1_score, roc_auc_score, roc_curve)\n",
    "from sklearn.pipeline import Pipeline\n",
    "from vaderSentiment.vaderSentiment import SentimentIntensityAnalyzer\n",
    "import requests\n",
    "import json\n",
    "\n",
    "warnings.filterwarnings('ignore')"
   ]
  },
  {
   "cell_type": "markdown",
   "id": "edc8fcf2",
   "metadata": {},
   "source": [
    "## Cargado de Datos\n",
    "\n",
    "Para este reporte se trabajó con un junton de datos igual a , que consistian 7613 en mensajes que tenian representaban mensajes positivos o negativos, las frases estaban escritas de un modo que solo usando el contexto y con conocimiento de la semantíca se podía entender si una frase representaba una catastrofe real o solamente figurada."
   ]
  },
  {
   "cell_type": "code",
   "execution_count": 4,
   "id": "69193eb6",
   "metadata": {},
   "outputs": [
    {
     "name": "stdout",
     "output_type": "stream",
     "text": [
      "⚠️ Error parseando línea: Expecting ',' delimiter: line 1 column 4314 (char 4313)\n",
      "Línea problemática: {\"id\": 1711127305131631071, \"id_str\": \"1711127305131631071\", \"url\": \"https://x.com/nquevedoa/status/1711127305131631071\", \"date\": \"2023-10-08 21:11:55+00:00\", \"user\": {\"id\": 204996481, \"id_str\": \"2049 ...\n",
      "Se cargaron 5604 tweets\n"
     ]
    }
   ],
   "source": [
    "tweets = []\n",
    "\n",
    "with open(\"data/traficogt.txt\", \"r\", encoding=\"utf-16\") as f:\n",
    "    for line in f:\n",
    "        line = line.strip()\n",
    "        if not line:\n",
    "            continue\n",
    "        try:\n",
    "            tweet = json.loads(line)\n",
    "            tweets.append(tweet)\n",
    "        except json.JSONDecodeError as e:\n",
    "            print(\"⚠️ Error parseando línea:\", e)\n",
    "            print(\"Línea problemática:\", line[:200], \"...\")\n",
    "            continue\n",
    "\n",
    "print(f\"Se cargaron {len(tweets)} tweets\")\n"
   ]
  },
  {
   "cell_type": "code",
   "execution_count": 5,
   "id": "9940e990",
   "metadata": {},
   "outputs": [
    {
     "name": "stdout",
     "output_type": "stream",
     "text": [
      "No se encontró ningún retweet\n"
     ]
    }
   ],
   "source": [
    "first_rt = None\n",
    "for i, tweet in enumerate(tweets):\n",
    "    if tweet.get(\"retweetedTweet\") is not None:\n",
    "        first_rt = (i, tweet)\n",
    "        break\n",
    "\n",
    "if first_rt:\n",
    "    idx, tw = first_rt\n",
    "    print(f\"El primer retweet está en tweets[{idx}]\")\n",
    "    print(\"ID:\", tw[\"id\"])\n",
    "    print(\"Usuario:\", tw[\"user\"][\"username\"])\n",
    "    print(\"Texto:\", tw[\"rawContent\"])\n",
    "else:\n",
    "    print(\"No se encontró ningún retweet\")\n"
   ]
  },
  {
   "cell_type": "code",
   "execution_count": 6,
   "id": "82c9faf0",
   "metadata": {},
   "outputs": [
    {
     "name": "stdout",
     "output_type": "stream",
     "text": [
      "{'id': 1834236045598056867, 'id_str': '1834236045598056867', 'url': 'https://x.com/traficogt/status/1834236045598056867', 'date': '2024-09-12 14:22:06+00:00', 'user': {'id': 93938886, 'id_str': '93938886', 'url': 'https://x.com/traficogt', 'username': 'traficogt', 'displayname': 'traficoGT', 'rawDescription': 'Noticias de ciudad de Guatemala', 'created': '2009-12-01 20:42:19+00:00', 'followersCount': 314368, 'friendsCount': 137, 'statusesCount': 52385, 'favouritesCount': 3471, 'listedCount': 291, 'mediaCount': 1292, 'location': 'Guatemala', 'profileImageUrl': 'https://pbs.twimg.com/profile_images/1782036597841530880/-tVuhOdK_normal.jpg', 'profileBannerUrl': None, 'protected': None, 'verified': False, 'blue': False, 'blueType': None, 'descriptionLinks': [], 'pinnedIds': [], '_type': 'snscrape.modules.twitter.User'}, 'lang': 'es', 'rawContent': 'Es comprensible la resolución... El ruso sabe de engrasar maquinaria.', 'replyCount': 0, 'retweetCount': 0, 'likeCount': 1, 'quoteCount': 0, 'bookmarkedCount': 0, 'conversationId': 1834236045598056867, 'conversationIdStr': '1834236045598056867', 'hashtags': [], 'cashtags': [], 'mentionedUsers': [], 'links': [], 'viewCount': 393, 'retweetedTweet': None, 'quotedTweet': {'id': 1834029142565658846, 'id_str': '1834029142565658846', 'url': 'https://x.com/monymmorales/status/1834029142565658846', 'date': '2024-09-12 00:39:56+00:00', 'user': {'id': 976875408, 'id_str': '976875408', 'url': 'https://x.com/monymmorales', 'username': 'monymmorales', 'displayname': 'Mony', 'rawDescription': 'Iglesia y estado son asunto separado.\\nCatólica \\n#SuMenteMeOlvidó, pero su corazón siempre me recordó.  \\n#Guatemala \\n#DonaciónDeÓrganos\\n\\n#GraciasPorEstar', 'created': '2012-11-28 20:16:36+00:00', 'followersCount': 5502, 'friendsCount': 4887, 'statusesCount': 180436, 'favouritesCount': 274770, 'listedCount': 24, 'mediaCount': 16644, 'location': 'Guatemala #Frijolandia ', 'profileImageUrl': 'https://pbs.twimg.com/profile_images/1810923178228609024/mXrBHHnl_normal.jpg', 'profileBannerUrl': 'https://pbs.twimg.com/profile_banners/976875408/1706033530', 'protected': None, 'verified': False, 'blue': False, 'blueType': None, 'descriptionLinks': [], 'pinnedIds': [1794803010935431533], '_type': 'snscrape.modules.twitter.User'}, 'lang': 'es', 'rawContent': 'La corrupción de la @CC_Guatemala\\nes descarada, falsificación de documentos y obligaron a extenderles DPI.\\nhttps://t.co/0J24ZCXJ2c', 'replyCount': 0, 'retweetCount': 56, 'likeCount': 84, 'quoteCount': 4, 'bookmarkedCount': 1, 'conversationId': 1834029142565658846, 'conversationIdStr': '1834029142565658846', 'hashtags': [], 'cashtags': [], 'mentionedUsers': [{'id': 783345301256073216, 'id_str': '783345301256073216', 'username': 'CC_Guatemala', 'displayname': 'CC Guatemala', '_type': 'snscrape.modules.twitter.UserRef'}], 'links': [{'url': 'https://www.prensalibre.com/guatemala/justicia/la-corte-de-constitucionalidad-ordena-al-renap-que-le-extienda-dpi-a-la-familia-rusa-bitkov-condenados-por-uso-de-documentos-falsos-breaking/', 'text': 'prensalibre.com/guatemala/just…', 'tcourl': 'https://t.co/0J24ZCXJ2c'}], 'viewCount': 1587, 'retweetedTweet': None, 'quotedTweet': None, 'place': None, 'coordinates': None, 'inReplyToTweetId': None, 'inReplyToTweetIdStr': None, 'inReplyToUser': None, 'source': '<a href=\"http://twitter.com/download/android\" rel=\"nofollow\">Twitter for Android</a>', 'sourceUrl': 'http://twitter.com/download/android', 'sourceLabel': 'Twitter for Android', 'media': {'photos': [], 'videos': [], 'animated': []}, 'card': {'title': 'La Corte de Constitucionalidad ordena al Renap que le extienda DPI a la familia rusa Bitkov,...', 'description': 'El Registro Nacional de las Personas (Renap) deberá otorgar un Código Único de Identificación (CUI) y emitir un nuevo Documento Personal de Identidad \\xa0(DPI) Especial de Mayor de Edad Reconocido Baj…', 'vanityUrl': 'prensalibre.com', 'url': 'https://t.co/0J24ZCXJ2c', 'photo': {'url': 'https://pbs.twimg.com/card_img/1834028955176677377/5aXD1dWE?format=jpg&name=orig'}, 'video': None, '_type': 'summary'}, '_type': 'snscrape.modules.twitter.Tweet'}, 'place': None, 'coordinates': None, 'inReplyToTweetId': None, 'inReplyToTweetIdStr': None, 'inReplyToUser': None, 'source': '<a href=\"http://twitter.com/download/android\" rel=\"nofollow\">Twitter for Android</a>', 'sourceUrl': 'http://twitter.com/download/android', 'sourceLabel': 'Twitter for Android', 'media': {'photos': [], 'videos': [], 'animated': []}, 'card': None, '_type': 'snscrape.modules.twitter.Tweet'}\n"
     ]
    }
   ],
   "source": [
    "print(tweets[0])"
   ]
  },
  {
   "cell_type": "code",
   "execution_count": null,
   "id": "fc0fe82d",
   "metadata": {},
   "outputs": [
    {
     "ename": "TypeError",
     "evalue": "'NoneType' object is not subscriptable",
     "output_type": "error",
     "traceback": [
      "\u001b[31m---------------------------------------------------------------------------\u001b[39m",
      "\u001b[31mTypeError\u001b[39m                                 Traceback (most recent call last)",
      "\u001b[36mCell\u001b[39m\u001b[36m \u001b[39m\u001b[32mIn[17]\u001b[39m\u001b[32m, line 11\u001b[39m\n\u001b[32m      1\u001b[39m cleaned_tweets = []\n\u001b[32m      2\u001b[39m \u001b[38;5;28;01mfor\u001b[39;00m tweet \u001b[38;5;129;01min\u001b[39;00m tweets:\n\u001b[32m      3\u001b[39m     cleaned_tweets.append({\n\u001b[32m      4\u001b[39m         \u001b[33m\"\u001b[39m\u001b[33mid\u001b[39m\u001b[33m\"\u001b[39m: tweet[\u001b[33m'\u001b[39m\u001b[33mid_str\u001b[39m\u001b[33m'\u001b[39m],\n\u001b[32m      5\u001b[39m         \u001b[33m\"\u001b[39m\u001b[33mcontent\u001b[39m\u001b[33m\"\u001b[39m: tweet[\u001b[33m'\u001b[39m\u001b[33mrawContent\u001b[39m\u001b[33m'\u001b[39m],\n\u001b[32m      6\u001b[39m         \u001b[33m\"\u001b[39m\u001b[33mlikeCount\u001b[39m\u001b[33m\"\u001b[39m: tweet[\u001b[33m'\u001b[39m\u001b[33mlikeCount\u001b[39m\u001b[33m'\u001b[39m],\n\u001b[32m      7\u001b[39m         \u001b[33m\"\u001b[39m\u001b[33mquoteCount\u001b[39m\u001b[33m\"\u001b[39m: tweet[\u001b[33m'\u001b[39m\u001b[33mquoteCount\u001b[39m\u001b[33m'\u001b[39m],\n\u001b[32m      8\u001b[39m         \u001b[33m\"\u001b[39m\u001b[33mhashtags\u001b[39m\u001b[33m\"\u001b[39m: tweet[\u001b[33m'\u001b[39m\u001b[33mhashtags\u001b[39m\u001b[33m'\u001b[39m],\n\u001b[32m      9\u001b[39m         \u001b[33m\"\u001b[39m\u001b[33mmentionedUsers\u001b[39m\u001b[33m\"\u001b[39m: tweet[\u001b[33m'\u001b[39m\u001b[33mmentionedUsers\u001b[39m\u001b[33m'\u001b[39m],\n\u001b[32m     10\u001b[39m         \u001b[33m\"\u001b[39m\u001b[33mviewCount\u001b[39m\u001b[33m\"\u001b[39m: tweet[\u001b[33m'\u001b[39m\u001b[33mviewCount\u001b[39m\u001b[33m'\u001b[39m],\n\u001b[32m---> \u001b[39m\u001b[32m11\u001b[39m         \u001b[33m\"\u001b[39m\u001b[33mquotedTweedUser\u001b[39m\u001b[33m\"\u001b[39m: \u001b[43mtweet\u001b[49m\u001b[43m[\u001b[49m\u001b[33;43m'\u001b[39;49m\u001b[33;43mquotedTweet\u001b[39;49m\u001b[33;43m'\u001b[39;49m\u001b[43m]\u001b[49m\u001b[43m[\u001b[49m\u001b[33;43m'\u001b[39;49m\u001b[33;43mid_str\u001b[39;49m\u001b[33;43m'\u001b[39;49m\u001b[43m]\u001b[49m,\n\u001b[32m     12\u001b[39m         \u001b[33m\"\u001b[39m\u001b[33mquotedTweedId\u001b[39m\u001b[33m\"\u001b[39m: tweet[\u001b[33m'\u001b[39m\u001b[33mquotedTweet\u001b[39m\u001b[33m'\u001b[39m],\n\u001b[32m     13\u001b[39m     })\n\u001b[32m     14\u001b[39m \u001b[38;5;28mprint\u001b[39m(cleaned_tweets[\u001b[32m0\u001b[39m])\n",
      "\u001b[31mTypeError\u001b[39m: 'NoneType' object is not subscriptable"
     ]
    }
   ],
   "source": [
    "cleaned_tweets = []\n",
    "for i, tweet in enumerate(tweets):\n",
    "    value = {\n",
    "        \"id\": tweet['id_str'],\n",
    "        \"content\": tweet['rawContent'],\n",
    "        \"likeCount\": tweet['likeCount'],\n",
    "        \"quoteCount\": tweet['quoteCount'],\n",
    "        \"hashtags\": tweet['hashtags'],\n",
    "        \"mentionedUsers\": tweet['mentionedUsers'],\n",
    "        \"viewCount\": tweet['viewCount'],\n",
    "        \"quotedTweetUser\": tweet['quotedTweet']['id_str'],\n",
    "        \"quotedTweetId\": tweet['quotedTweet'],\n",
    "    }\n",
    "    if tweet['quotedTweet'] is not None:\n",
    "        value[\"quotedTweedUser\"] = tweet['quotedTweet']['id_str']\n",
    "\n",
    "    cleaned_tweets.append(value)\n",
    "print(cleaned_tweets[0])"
   ]
  },
  {
   "cell_type": "markdown",
   "id": "197de489",
   "metadata": {},
   "source": [
    "### Para llevarnos\n",
    "\n",
    "# user\n",
    "* Username\n",
    "* id_str\n",
    "* followersCount\n",
    "* friendsCount\n",
    "* mediaCount\n",
    "* verified\n",
    "# rawContent\n",
    "# likeCount\n",
    "# quoteCount\n",
    "# hashtags\n",
    "# cashtags\n",
    "# mentionedUsers\n",
    "# viewCount\n",
    "# retweetedTweet\n",
    "# quotedTweet -> id\n",
    "\n",
    "\n",
    "---\n",
    "# quotedTweet\n",
    "# user\n",
    "* Username\n",
    "* id_str\n",
    "* followersCount\n",
    "* friendsCount\n",
    "* mediaCount\n",
    "* verified\n",
    "# rawContent\n",
    "# likeCount\n",
    "# quoteCount\n",
    "# hashtags\n",
    "# cashtags\n",
    "# mentionedUsers\n",
    "# viewCount\n",
    "# retweetedTweet\n",
    "# quotedTweet"
   ]
  },
  {
   "cell_type": "markdown",
   "id": "876c5730",
   "metadata": {},
   "source": [
    "# Analísis de sentimiento"
   ]
  },
  {
   "cell_type": "code",
   "execution_count": null,
   "id": "e3869963",
   "metadata": {},
   "outputs": [],
   "source": []
  }
 ],
 "metadata": {
  "kernelspec": {
   "display_name": ".venv",
   "language": "python",
   "name": "python3"
  },
  "language_info": {
   "codemirror_mode": {
    "name": "ipython",
    "version": 3
   },
   "file_extension": ".py",
   "mimetype": "text/x-python",
   "name": "python",
   "nbconvert_exporter": "python",
   "pygments_lexer": "ipython3",
   "version": "3.13.7"
  }
 },
 "nbformat": 4,
 "nbformat_minor": 5
}
